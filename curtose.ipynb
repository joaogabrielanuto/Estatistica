{
 "cells": [
  {
   "cell_type": "code",
   "execution_count": 74,
   "metadata": {},
   "outputs": [
    {
     "name": "stdout",
     "output_type": "stream",
     "text": [
      "Requirement already satisfied: scipy in c:\\users\\joaog\\anaconda3\\lib\\site-packages (1.10.0)\n",
      "Requirement already satisfied: numpy<1.27.0,>=1.19.5 in c:\\users\\joaog\\anaconda3\\lib\\site-packages (from scipy) (1.23.5)\n"
     ]
    }
   ],
   "source": [
    "!pip install scipy"
   ]
  },
  {
   "cell_type": "code",
   "execution_count": 75,
   "metadata": {},
   "outputs": [],
   "source": [
    "import numpy as np\n",
    "import scipy.stats as stats\n",
    "import seaborn as sns\n",
    "import matplotlib.pyplot as plt"
   ]
  },
  {
   "cell_type": "code",
   "execution_count": 76,
   "metadata": {},
   "outputs": [
    {
     "name": "stdout",
     "output_type": "stream",
     "text": [
      "Curtose: nan\n"
     ]
    },
    {
     "name": "stderr",
     "output_type": "stream",
     "text": [
      "c:\\Users\\joaog\\anaconda3\\lib\\site-packages\\scipy\\stats\\_stats_py.py:1417: RuntimeWarning: Mean of empty slice.\n",
      "  mean = a.mean(axis, keepdims=True)\n",
      "c:\\Users\\joaog\\anaconda3\\lib\\site-packages\\numpy\\core\\_methods.py:182: RuntimeWarning: invalid value encountered in divide\n",
      "  ret = um.true_divide(\n",
      "c:\\Users\\joaog\\anaconda3\\lib\\site-packages\\numpy\\core\\fromnumeric.py:3432: RuntimeWarning: Mean of empty slice.\n",
      "  return _methods._mean(a, axis=axis, dtype=dtype,\n",
      "c:\\Users\\joaog\\anaconda3\\lib\\site-packages\\numpy\\core\\_methods.py:190: RuntimeWarning: invalid value encountered in double_scalars\n",
      "  ret = ret.dtype.type(ret / rcount)\n"
     ]
    }
   ],
   "source": [
    "# Lista de elementos\n",
    "lista = []\n",
    "\n",
    "# Calcular a curtose\n",
    "curtose = stats.kurtosis(lista)\n",
    "\n",
    "print(\"Curtose:\", curtose)"
   ]
  },
  {
   "cell_type": "code",
   "execution_count": 77,
   "metadata": {},
   "outputs": [
    {
     "data": {
      "text/plain": [
       "<Axes: >"
      ]
     },
     "execution_count": 77,
     "metadata": {},
     "output_type": "execute_result"
    },
    {
     "data": {
      "image/png": "[encoded data removed]",
      "text/plain": [
       "<Figure size 640x480 with 1 Axes>"
      ]
     },
     "metadata": {},
     "output_type": "display_data"
    }
   ],
   "source": [
    "sns.histplot(lista, kde=True, binwidth=1)"
   ]
  },
  {
   "cell_type": "code",
   "execution_count": 78,
   "metadata": {},
   "outputs": [],
   "source": [
    "ls = [10*0.1, 10*-0.1]"
   ]
  },
  {
   "cell_type": "code",
   "execution_count": 79,
   "metadata": {},
   "outputs": [
    {
     "data": {
      "text/plain": [
       "[1.0, -1.0]"
      ]
     },
     "execution_count": 79,
     "metadata": {},
     "output_type": "execute_result"
    }
   ],
   "source": [
    "ls"
   ]
  },
  {
   "cell_type": "code",
   "execution_count": 80,
   "metadata": {},
   "outputs": [],
   "source": [
    "import yfinance as yf"
   ]
  },
  {
   "cell_type": "code",
   "execution_count": 81,
   "metadata": {},
   "outputs": [
    {
     "name": "stdout",
     "output_type": "stream",
     "text": [
      "[*********************100%***********************]  1 of 1 completed\n"
     ]
    }
   ],
   "source": [
    "df = yf.download('^BVSP')"
   ]
  },
  {
   "cell_type": "code",
   "execution_count": 82,
   "metadata": {},
   "outputs": [
    {
     "data": {
      "text/html": [
       "<div>\n",
       "<style scoped>\n",
       "    .dataframe tbody tr th:only-of-type {\n",
       "        vertical-align: middle;\n",
       "    }\n",
       "\n",
       "    .dataframe tbody tr th {\n",
       "        vertical-align: top;\n",
       "    }\n",
       "\n",
       "    .dataframe thead th {\n",
       "        text-align: right;\n",
       "    }\n",
       "</style>\n",
       "<table border=\"1\" class=\"dataframe\">\n",
       "  <thead>\n",
       "    <tr style=\"text-align: right;\">\n",
       "      <th></th>\n",
       "      <th>Open</th>\n",
       "      <th>High</th>\n",
       "      <th>Low</th>\n",
       "      <th>Close</th>\n",
       "      <th>Adj Close</th>\n",
       "      <th>Volume</th>\n",
       "    </tr>\n",
       "    <tr>\n",
       "      <th>Date</th>\n",
       "      <th></th>\n",
       "      <th></th>\n",
       "      <th></th>\n",
       "      <th></th>\n",
       "      <th></th>\n",
       "      <th></th>\n",
       "    </tr>\n",
       "  </thead>\n",
       "  <tbody>\n",
       "    <tr>\n",
       "      <th>1993-04-27</th>\n",
       "      <td>24.799999</td>\n",
       "      <td>25.400000</td>\n",
       "      <td>24.500000</td>\n",
       "      <td>24.500000</td>\n",
       "      <td>24.500000</td>\n",
       "      <td>0</td>\n",
       "    </tr>\n",
       "    <tr>\n",
       "      <th>1993-04-28</th>\n",
       "      <td>24.500000</td>\n",
       "      <td>24.600000</td>\n",
       "      <td>23.700001</td>\n",
       "      <td>24.299999</td>\n",
       "      <td>24.299999</td>\n",
       "      <td>0</td>\n",
       "    </tr>\n",
       "    <tr>\n",
       "      <th>1993-04-29</th>\n",
       "      <td>24.299999</td>\n",
       "      <td>24.799999</td>\n",
       "      <td>23.700001</td>\n",
       "      <td>23.700001</td>\n",
       "      <td>23.700001</td>\n",
       "      <td>0</td>\n",
       "    </tr>\n",
       "    <tr>\n",
       "      <th>1993-04-30</th>\n",
       "      <td>23.700001</td>\n",
       "      <td>24.200001</td>\n",
       "      <td>23.700001</td>\n",
       "      <td>24.100000</td>\n",
       "      <td>24.100000</td>\n",
       "      <td>0</td>\n",
       "    </tr>\n",
       "    <tr>\n",
       "      <th>1993-05-03</th>\n",
       "      <td>24.100000</td>\n",
       "      <td>24.400000</td>\n",
       "      <td>23.799999</td>\n",
       "      <td>24.100000</td>\n",
       "      <td>24.100000</td>\n",
       "      <td>0</td>\n",
       "    </tr>\n",
       "    <tr>\n",
       "      <th>...</th>\n",
       "      <td>...</td>\n",
       "      <td>...</td>\n",
       "      <td>...</td>\n",
       "      <td>...</td>\n",
       "      <td>...</td>\n",
       "      <td>...</td>\n",
       "    </tr>\n",
       "    <tr>\n",
       "      <th>2023-06-05</th>\n",
       "      <td>112558.000000</td>\n",
       "      <td>113071.000000</td>\n",
       "      <td>111736.000000</td>\n",
       "      <td>112696.000000</td>\n",
       "      <td>112696.000000</td>\n",
       "      <td>9078800</td>\n",
       "    </tr>\n",
       "    <tr>\n",
       "      <th>2023-06-06</th>\n",
       "      <td>112697.000000</td>\n",
       "      <td>114783.000000</td>\n",
       "      <td>112696.000000</td>\n",
       "      <td>114610.000000</td>\n",
       "      <td>114610.000000</td>\n",
       "      <td>15025400</td>\n",
       "    </tr>\n",
       "    <tr>\n",
       "      <th>2023-06-07</th>\n",
       "      <td>114610.000000</td>\n",
       "      <td>115978.000000</td>\n",
       "      <td>114610.000000</td>\n",
       "      <td>115488.000000</td>\n",
       "      <td>115488.000000</td>\n",
       "      <td>14017100</td>\n",
       "    </tr>\n",
       "    <tr>\n",
       "      <th>2023-06-09</th>\n",
       "      <td>115489.000000</td>\n",
       "      <td>117603.000000</td>\n",
       "      <td>115489.000000</td>\n",
       "      <td>117019.000000</td>\n",
       "      <td>117019.000000</td>\n",
       "      <td>13527100</td>\n",
       "    </tr>\n",
       "    <tr>\n",
       "      <th>2023-06-12</th>\n",
       "      <td>117021.593750</td>\n",
       "      <td>117272.937500</td>\n",
       "      <td>116830.960938</td>\n",
       "      <td>117036.859375</td>\n",
       "      <td>117036.859375</td>\n",
       "      <td>0</td>\n",
       "    </tr>\n",
       "  </tbody>\n",
       "</table>\n",
       "<p>7455 rows × 6 columns</p>\n",
       "</div>"
      ],
      "text/plain": [
       "                     Open           High            Low          Close  \\\n",
       "Date                                                                     \n",
       "1993-04-27      24.799999      25.400000      24.500000      24.500000   \n",
       "1993-04-28      24.500000      24.600000      23.700001      24.299999   \n",
       "1993-04-29      24.299999      24.799999      23.700001      23.700001   \n",
       "1993-04-30      23.700001      24.200001      23.700001      24.100000   \n",
       "1993-05-03      24.100000      24.400000      23.799999      24.100000   \n",
       "...                   ...            ...            ...            ...   \n",
       "2023-06-05  112558.000000  113071.000000  111736.000000  112696.000000   \n",
       "2023-06-06  112697.000000  114783.000000  112696.000000  114610.000000   \n",
       "2023-06-07  114610.000000  115978.000000  114610.000000  115488.000000   \n",
       "2023-06-09  115489.000000  117603.000000  115489.000000  117019.000000   \n",
       "2023-06-12  117021.593750  117272.937500  116830.960938  117036.859375   \n",
       "\n",
       "                Adj Close    Volume  \n",
       "Date                                 \n",
       "1993-04-27      24.500000         0  \n",
       "1993-04-28      24.299999         0  \n",
       "1993-04-29      23.700001         0  \n",
       "1993-04-30      24.100000         0  \n",
       "1993-05-03      24.100000         0  \n",
       "...                   ...       ...  \n",
       "2023-06-05  112696.000000   9078800  \n",
       "2023-06-06  114610.000000  15025400  \n",
       "2023-06-07  115488.000000  14017100  \n",
       "2023-06-09  117019.000000  13527100  \n",
       "2023-06-12  117036.859375         0  \n",
       "\n",
       "[7455 rows x 6 columns]"
      ]
     },
     "execution_count": 82,
     "metadata": {},
     "output_type": "execute_result"
    }
   ],
   "source": [
    "df"
   ]
  },
  {
   "cell_type": "code",
   "execution_count": 83,
   "metadata": {},
   "outputs": [],
   "source": [
    "df['pct change'] = df['Close'].pct_change()"
   ]
  },
  {
   "cell_type": "code",
   "execution_count": 84,
   "metadata": {},
   "outputs": [
    {
     "data": {
      "text/html": [
       "<div>\n",
       "<style scoped>\n",
       "    .dataframe tbody tr th:only-of-type {\n",
       "        vertical-align: middle;\n",
       "    }\n",
       "\n",
       "    .dataframe tbody tr th {\n",
       "        vertical-align: top;\n",
       "    }\n",
       "\n",
       "    .dataframe thead th {\n",
       "        text-align: right;\n",
       "    }\n",
       "</style>\n",
       "<table border=\"1\" class=\"dataframe\">\n",
       "  <thead>\n",
       "    <tr style=\"text-align: right;\">\n",
       "      <th></th>\n",
       "      <th>Open</th>\n",
       "      <th>High</th>\n",
       "      <th>Low</th>\n",
       "      <th>Close</th>\n",
       "      <th>Adj Close</th>\n",
       "      <th>Volume</th>\n",
       "      <th>pct change</th>\n",
       "    </tr>\n",
       "    <tr>\n",
       "      <th>Date</th>\n",
       "      <th></th>\n",
       "      <th></th>\n",
       "      <th></th>\n",
       "      <th></th>\n",
       "      <th></th>\n",
       "      <th></th>\n",
       "      <th></th>\n",
       "    </tr>\n",
       "  </thead>\n",
       "  <tbody>\n",
       "    <tr>\n",
       "      <th>1993-04-27</th>\n",
       "      <td>24.799999</td>\n",
       "      <td>25.400000</td>\n",
       "      <td>24.500000</td>\n",
       "      <td>24.500000</td>\n",
       "      <td>24.500000</td>\n",
       "      <td>0</td>\n",
       "      <td>NaN</td>\n",
       "    </tr>\n",
       "    <tr>\n",
       "      <th>1993-04-28</th>\n",
       "      <td>24.500000</td>\n",
       "      <td>24.600000</td>\n",
       "      <td>23.700001</td>\n",
       "      <td>24.299999</td>\n",
       "      <td>24.299999</td>\n",
       "      <td>0</td>\n",
       "      <td>-0.008163</td>\n",
       "    </tr>\n",
       "    <tr>\n",
       "      <th>1993-04-29</th>\n",
       "      <td>24.299999</td>\n",
       "      <td>24.799999</td>\n",
       "      <td>23.700001</td>\n",
       "      <td>23.700001</td>\n",
       "      <td>23.700001</td>\n",
       "      <td>0</td>\n",
       "      <td>-0.024691</td>\n",
       "    </tr>\n",
       "    <tr>\n",
       "      <th>1993-04-30</th>\n",
       "      <td>23.700001</td>\n",
       "      <td>24.200001</td>\n",
       "      <td>23.700001</td>\n",
       "      <td>24.100000</td>\n",
       "      <td>24.100000</td>\n",
       "      <td>0</td>\n",
       "      <td>0.016878</td>\n",
       "    </tr>\n",
       "    <tr>\n",
       "      <th>1993-05-03</th>\n",
       "      <td>24.100000</td>\n",
       "      <td>24.400000</td>\n",
       "      <td>23.799999</td>\n",
       "      <td>24.100000</td>\n",
       "      <td>24.100000</td>\n",
       "      <td>0</td>\n",
       "      <td>0.000000</td>\n",
       "    </tr>\n",
       "    <tr>\n",
       "      <th>...</th>\n",
       "      <td>...</td>\n",
       "      <td>...</td>\n",
       "      <td>...</td>\n",
       "      <td>...</td>\n",
       "      <td>...</td>\n",
       "      <td>...</td>\n",
       "      <td>...</td>\n",
       "    </tr>\n",
       "    <tr>\n",
       "      <th>2023-06-05</th>\n",
       "      <td>112558.000000</td>\n",
       "      <td>113071.000000</td>\n",
       "      <td>111736.000000</td>\n",
       "      <td>112696.000000</td>\n",
       "      <td>112696.000000</td>\n",
       "      <td>9078800</td>\n",
       "      <td>0.001226</td>\n",
       "    </tr>\n",
       "    <tr>\n",
       "      <th>2023-06-06</th>\n",
       "      <td>112697.000000</td>\n",
       "      <td>114783.000000</td>\n",
       "      <td>112696.000000</td>\n",
       "      <td>114610.000000</td>\n",
       "      <td>114610.000000</td>\n",
       "      <td>15025400</td>\n",
       "      <td>0.016984</td>\n",
       "    </tr>\n",
       "    <tr>\n",
       "      <th>2023-06-07</th>\n",
       "      <td>114610.000000</td>\n",
       "      <td>115978.000000</td>\n",
       "      <td>114610.000000</td>\n",
       "      <td>115488.000000</td>\n",
       "      <td>115488.000000</td>\n",
       "      <td>14017100</td>\n",
       "      <td>0.007661</td>\n",
       "    </tr>\n",
       "    <tr>\n",
       "      <th>2023-06-09</th>\n",
       "      <td>115489.000000</td>\n",
       "      <td>117603.000000</td>\n",
       "      <td>115489.000000</td>\n",
       "      <td>117019.000000</td>\n",
       "      <td>117019.000000</td>\n",
       "      <td>13527100</td>\n",
       "      <td>0.013257</td>\n",
       "    </tr>\n",
       "    <tr>\n",
       "      <th>2023-06-12</th>\n",
       "      <td>117021.593750</td>\n",
       "      <td>117272.937500</td>\n",
       "      <td>116830.960938</td>\n",
       "      <td>117036.859375</td>\n",
       "      <td>117036.859375</td>\n",
       "      <td>0</td>\n",
       "      <td>0.000153</td>\n",
       "    </tr>\n",
       "  </tbody>\n",
       "</table>\n",
       "<p>7455 rows × 7 columns</p>\n",
       "</div>"
      ],
      "text/plain": [
       "                     Open           High            Low          Close  \\\n",
       "Date                                                                     \n",
       "1993-04-27      24.799999      25.400000      24.500000      24.500000   \n",
       "1993-04-28      24.500000      24.600000      23.700001      24.299999   \n",
       "1993-04-29      24.299999      24.799999      23.700001      23.700001   \n",
       "1993-04-30      23.700001      24.200001      23.700001      24.100000   \n",
       "1993-05-03      24.100000      24.400000      23.799999      24.100000   \n",
       "...                   ...            ...            ...            ...   \n",
       "2023-06-05  112558.000000  113071.000000  111736.000000  112696.000000   \n",
       "2023-06-06  112697.000000  114783.000000  112696.000000  114610.000000   \n",
       "2023-06-07  114610.000000  115978.000000  114610.000000  115488.000000   \n",
       "2023-06-09  115489.000000  117603.000000  115489.000000  117019.000000   \n",
       "2023-06-12  117021.593750  117272.937500  116830.960938  117036.859375   \n",
       "\n",
       "                Adj Close    Volume  pct change  \n",
       "Date                                             \n",
       "1993-04-27      24.500000         0         NaN  \n",
       "1993-04-28      24.299999         0   -0.008163  \n",
       "1993-04-29      23.700001         0   -0.024691  \n",
       "1993-04-30      24.100000         0    0.016878  \n",
       "1993-05-03      24.100000         0    0.000000  \n",
       "...                   ...       ...         ...  \n",
       "2023-06-05  112696.000000   9078800    0.001226  \n",
       "2023-06-06  114610.000000  15025400    0.016984  \n",
       "2023-06-07  115488.000000  14017100    0.007661  \n",
       "2023-06-09  117019.000000  13527100    0.013257  \n",
       "2023-06-12  117036.859375         0    0.000153  \n",
       "\n",
       "[7455 rows x 7 columns]"
      ]
     },
     "execution_count": 84,
     "metadata": {},
     "output_type": "execute_result"
    }
   ],
   "source": [
    "df"
   ]
  },
  {
   "cell_type": "code",
   "execution_count": 85,
   "metadata": {},
   "outputs": [
    {
     "data": {
      "text/plain": [
       "<Axes: xlabel='pct change', ylabel='Count'>"
      ]
     },
     "execution_count": 85,
     "metadata": {},
     "output_type": "execute_result"
    },
    {
     "data": {
      "image/png": "[encoded data removed]",
      "text/plain": [
       "<Figure size 640x480 with 1 Axes>"
      ]
     },
     "metadata": {},
     "output_type": "display_data"
    }
   ],
   "source": [
    "sns.histplot(df['pct change'], kde=True)"
   ]
  },
  {
   "cell_type": "code",
   "execution_count": 86,
   "metadata": {},
   "outputs": [
    {
     "data": {
      "text/plain": [
       "Date\n",
       "1993-04-27         NaN\n",
       "1993-04-28   -0.008163\n",
       "1993-04-29   -0.024691\n",
       "1993-04-30    0.016878\n",
       "1993-05-03    0.000000\n",
       "                ...   \n",
       "2023-06-05    0.001226\n",
       "2023-06-06    0.016984\n",
       "2023-06-07    0.007661\n",
       "2023-06-09    0.013257\n",
       "2023-06-12    0.000153\n",
       "Name: pct change, Length: 7455, dtype: float64"
      ]
     },
     "execution_count": 86,
     "metadata": {},
     "output_type": "execute_result"
    }
   ],
   "source": [
    "df['pct change']"
   ]
  },
  {
   "cell_type": "code",
   "execution_count": 87,
   "metadata": {},
   "outputs": [
    {
     "data": {
      "text/plain": [
       "15.012590515806352"
      ]
     },
     "execution_count": 87,
     "metadata": {},
     "output_type": "execute_result"
    }
   ],
   "source": [
    "curtose = stats.kurtosis(df['pct change'][1:])\n",
    "curtose"
   ]
  },
  {
   "cell_type": "code",
   "execution_count": 88,
   "metadata": {},
   "outputs": [
    {
     "data": {
      "text/plain": [
       "15.01016439621042"
      ]
     },
     "execution_count": 88,
     "metadata": {},
     "output_type": "execute_result"
    }
   ],
   "source": [
    "curtose = stats.kurtosis(ls_pct_change)\n",
    "curtose"
   ]
  }
 ],
 "metadata": {
  "kernelspec": {
   "display_name": "base",
   "language": "python",
   "name": "python3"
  },
  "language_info": {
   "codemirror_mode": {
    "name": "ipython",
    "version": 3
   },
   "file_extension": ".py",
   "mimetype": "text/x-python",
   "name": "python",
   "nbconvert_exporter": "python",
   "pygments_lexer": "ipython3",
   "version": "3.10.9"
  },
  "orig_nbformat": 4
 },
 "nbformat": 4,
 "nbformat_minor": 2
}
